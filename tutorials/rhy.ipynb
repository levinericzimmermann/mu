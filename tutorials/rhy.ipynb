{
 "cells": [
  {
   "cell_type": "markdown",
   "metadata": {},
   "source": [
    "# Rhythm\n",
    "\n",
    "*mu*s implementation and abstraction of Rhythm is very basic and very direct, but easily extendable. In its current concept *mu* understands rhythm just as a list of floating point numbers where one number represents one duration or delay of an event (in for instance seconds, miliseconds, quarter notes...). The idea of the module is to offer a very general and flexible format for rhythmic notation. It might be related to frequency in the pitch dimension, because every rhythm is representable with floating point numbers but not necessarily very well readable. And like frequency it might be the output format you would send to other programs like [Csound](https://csound.com/) or [Pyo](http://ajaxsoundstudio.com/software/pyo/) to synthesize actual sound files.\n",
    "\n",
    "This Jupyter Notebook shall give you a short overview of the few features *mu* adds to Pythons default floating point type and how you could extend the module for your own usage.\n",
    "\n",
    "## Making new rhythm units\n",
    "\n",
    "First you need to import the Rhythm module to your Python Interpreter:"
   ]
  },
  {
   "cell_type": "code",
   "execution_count": null,
   "metadata": {},
   "outputs": [],
   "source": [
    "from mu.rhy import rhy"
   ]
  },
  {
   "cell_type": "markdown",
   "metadata": {},
   "source": [
    "To generate one duration or one delay, you may just type:"
   ]
  },
  {
   "cell_type": "code",
   "execution_count": null,
   "metadata": {},
   "outputs": [],
   "source": [
    "rhy.RhyUnit(1)  # my 1 second duration"
   ]
  },
  {
   "cell_type": "markdown",
   "metadata": {},
   "source": [
    "You can make use of all the usual math operations with *RhyUnit* - objects:"
   ]
  },
  {
   "cell_type": "code",
   "execution_count": null,
   "metadata": {},
   "outputs": [],
   "source": [
    "rhy.RhyUnit(1) + rhy.RhyUnit(2) == rhy.RhyUnit(3)\n",
    "rhy.RhyUnit(2) - rhy.RhyUnit(0.5) == rhy.RhyUnit(1.5)\n",
    "rhy.RhyUnit(2) * rhy.RhyUnit(0.5) == rhy.RhyUnit(1)\n",
    "rhy.RhyUnit(2) / rhy.RhyUnit(4) == rhy.RhyUnit(0.5)\n",
    "rhy.RhyUnit(2) ** rhy.RhyUnit(2) == rhy.RhyUnit(4)"
   ]
  },
  {
   "cell_type": "markdown",
   "metadata": {},
   "source": [
    "It is also possible to calculate with Pythons default floating point numbers:"
   ]
  },
  {
   "cell_type": "code",
   "execution_count": null,
   "metadata": {},
   "outputs": [],
   "source": [
    "rhy.RhyUnit(3) * 0.5"
   ]
  },
  {
   "cell_type": "markdown",
   "metadata": {},
   "source": [
    "Here it is very important to recognise a specific - maybe not that expectable - behaviour of *mu*:"
   ]
  },
  {
   "cell_type": "code",
   "execution_count": null,
   "metadata": {},
   "outputs": [],
   "source": [
    "type(rhy.RhyUnit(3) * 0.5) == rhy.RhyUnit\n",
    "type(0.5 * rhy.RhyUnit(3)) == rhy.RhyUnit  # order doesn't matter\n",
    "type(0.5 * rhy.RhyUnit(3) + 2 * 3 / 5) == rhy.RhyUnit  # and it also doesn't matter how many numbers you use"
   ]
  },
  {
   "cell_type": "markdown",
   "metadata": {},
   "source": [
    "Whenever you make any math with your *RhyUnit* object, your return value will always be another *RhyUnit* - object. The type keeps constant and the *mu* type will always be the dominant one. This can be very helpful if you want to make sure that any newly generated object keeps the same functionality you expect from your *RhyUnit* - object. But sometimes it might be confusing: for instance you summed up your *RhyUnit* objects to only one number and you just want to use it as an ordinary floating point number to be able to pass it to another library. For this case you may want to convert your *RhyUnit* object explicitly to an actual floating point number:"
   ]
  },
  {
   "cell_type": "code",
   "execution_count": null,
   "metadata": {},
   "outputs": [],
   "source": [
    "my_float = float(rhy.RhyUnit(2.35))"
   ]
  },
  {
   "cell_type": "markdown",
   "metadata": {},
   "source": [
    "## Building actual rhythms\n",
    "\n",
    "After we initialized single durations or delays, we may want to save and combine them to actual rhythms:"
   ]
  },
  {
   "cell_type": "code",
   "execution_count": null,
   "metadata": {},
   "outputs": [],
   "source": [
    "ru0 = rhy.RhyUnit(2)\n",
    "ru1 = rhy.RhyUnit(1)\n",
    "my_schillinger_rhythm = rhy.RhyCompound([ru0, ru1, ru1, ru0])"
   ]
  },
  {
   "cell_type": "markdown",
   "metadata": {},
   "source": [
    "You could stretch or compress your newly generated rhythm:"
   ]
  },
  {
   "cell_type": "code",
   "execution_count": null,
   "metadata": {},
   "outputs": [],
   "source": [
    "my_fast_schllinger_rhythm = my_schillinger_rhythm.stretch(0.25)\n",
    "my_slowly_schllinger_rhythm = my_schillinger_rhythm.stretch(4)"
   ]
  },
  {
   "cell_type": "markdown",
   "metadata": {},
   "source": [
    "The returning objects will be of the same type again:"
   ]
  },
  {
   "cell_type": "code",
   "execution_count": null,
   "metadata": {},
   "outputs": [],
   "source": [
    "type(my_fast_schllinger_rhythm) == rhy.RhyCompound"
   ]
  },
  {
   "cell_type": "markdown",
   "metadata": {},
   "source": [
    "In general there are two different models to abstract duration or delay values of sequential events. In the examples above, we always used the relative model, meaning that the numbers indicated how long the specific event will take or how long it takes until the next event comes. But in some situations it is more helpful to use lists, which indicate *when* the specific event may start. This notation can be called *absolute*. You can convert your *RhyCompound* object from a relative notation to an absolute notation and vice versa:"
   ]
  },
  {
   "cell_type": "code",
   "execution_count": null,
   "metadata": {},
   "outputs": [],
   "source": [
    "my_schillinger_rhythm_absolute = my_schillinger_rhythm.convert2absolute()"
   ]
  }
 ],
 "metadata": {
  "kernelspec": {
   "display_name": "Python 3",
   "language": "python",
   "name": "python3"
  },
  "language_info": {
   "codemirror_mode": {
    "name": "ipython",
    "version": 2
   },
   "file_extension": ".py",
   "mimetype": "text/x-python",
   "name": "python",
   "nbconvert_exporter": "python",
   "pygments_lexer": "ipython2",
   "version": "2.7.15rc1"
  }
 },
 "nbformat": 4,
 "nbformat_minor": 2
}
