{
 "cells": [
  {
   "cell_type": "markdown",
   "metadata": {},
   "source": [
    "# Rhythm\n",
    "\n",
    "*mu*s implementation and abstraction of Rhythm is very basic and very direct, but easily extendable. In its current concept *mu* understands rhythm just as a list of floating point numbers where one number represents one duration or delay of an event (in for instance seconds, miliseconds, quarter notes...). The idea of the module is to offer a very general and flexible format for rhythmic notation. It might be related to frequency in the pitch dimension, because every rhythm is representable with floating point numbers but not necessarily very well readable. And like frequency it might be the output format you would send to other programs like [Csound](https://csound.com/) or [Pyo](http://ajaxsoundstudio.com/software/pyo/) to synthesize actual sound files.\n",
    "\n",
    "This Jupyter Notebook shall give you a short overview of the few features *mu* adds to Pythons default floating point type and how you could extend the module for your own usage.\n",
    "\n",
    "## Making new rhythm units\n",
    "\n",
    "First you need to import the Rhythm module to your Python Interpreter:"
   ]
  },
  {
   "cell_type": "code",
   "execution_count": 1,
   "metadata": {},
   "outputs": [],
   "source": [
    "from mu.rhy import rhy"
   ]
  },
  {
   "cell_type": "markdown",
   "metadata": {},
   "source": [
    "To generate one duration or one delay, you may just type:"
   ]
  },
  {
   "cell_type": "code",
   "execution_count": 2,
   "metadata": {},
   "outputs": [
    {
     "data": {
      "text/plain": [
       "1.0"
      ]
     },
     "execution_count": 2,
     "metadata": {},
     "output_type": "execute_result"
    }
   ],
   "source": [
    "rhy.RhyUnit(1)  # my 1 second duration"
   ]
  },
  {
   "cell_type": "markdown",
   "metadata": {},
   "source": [
    "You can make use of all the usual math operations with *RhyUnit* - objects:"
   ]
  },
  {
   "cell_type": "code",
   "execution_count": 4,
   "metadata": {},
   "outputs": [
    {
     "name": "stdout",
     "output_type": "stream",
     "text": [
      "3.0\n",
      "1.5\n",
      "1.0\n",
      "0.5\n",
      "4.0\n"
     ]
    }
   ],
   "source": [
    "print(rhy.RhyUnit(1) + rhy.RhyUnit(2))\n",
    "print(rhy.RhyUnit(2) - rhy.RhyUnit(0.5))\n",
    "print(rhy.RhyUnit(2) * rhy.RhyUnit(0.5))\n",
    "print(rhy.RhyUnit(2) / rhy.RhyUnit(4))\n",
    "print(rhy.RhyUnit(2) ** rhy.RhyUnit(2))"
   ]
  },
  {
   "cell_type": "markdown",
   "metadata": {},
   "source": [
    "It is also possible to calculate with Pythons default floating point numbers:"
   ]
  },
  {
   "cell_type": "code",
   "execution_count": 5,
   "metadata": {},
   "outputs": [
    {
     "data": {
      "text/plain": [
       "1.5"
      ]
     },
     "execution_count": 5,
     "metadata": {},
     "output_type": "execute_result"
    }
   ],
   "source": [
    "rhy.RhyUnit(3) * 0.5"
   ]
  },
  {
   "cell_type": "markdown",
   "metadata": {},
   "source": [
    "Here it is very important to recognise a specific - maybe not that expectable - behaviour of *mu*:"
   ]
  },
  {
   "cell_type": "code",
   "execution_count": null,
   "metadata": {},
   "outputs": [],
   "source": [
    "type(rhy.RhyUnit(3) * 0.5) == rhy.RhyUnit\n",
    "type(0.5 * rhy.RhyUnit(3)) == rhy.RhyUnit  # order doesn't matter\n",
    "type(0.5 * rhy.RhyUnit(3) + 2 * 3 / 5) == rhy.RhyUnit  # and it also doesn't matter how many numbers you use"
   ]
  },
  {
   "cell_type": "markdown",
   "metadata": {},
   "source": [
    "Whenever you make any math with your *RhyUnit* object, your return value will always be another *RhyUnit* - object. The type keeps constant and the *mu* type will always be the dominant one. This can be very helpful if you want to make sure that any newly generated object keeps the same functionality you expect from your *RhyUnit* - object. But sometimes it might be confusing: for instance you summed up your *RhyUnit* objects to only one number and you just want to use it as an ordinary floating point number to be able to pass it to another library. For this case you may want to convert your *RhyUnit* object explicitly to an actual floating point number:"
   ]
  },
  {
   "cell_type": "code",
   "execution_count": 7,
   "metadata": {},
   "outputs": [
    {
     "name": "stdout",
     "output_type": "stream",
     "text": [
      "<class 'float'>\n"
     ]
    }
   ],
   "source": [
    "my_float = float(rhy.RhyUnit(2.35))\n",
    "print(type(my_float))"
   ]
  },
  {
   "cell_type": "markdown",
   "metadata": {},
   "source": [
    "## Building actual rhythms\n",
    "\n",
    "After we initialized single durations or delays, we may want to save and combine them to actual rhythms:"
   ]
  },
  {
   "cell_type": "code",
   "execution_count": 8,
   "metadata": {},
   "outputs": [
    {
     "name": "stdout",
     "output_type": "stream",
     "text": [
      "[2.0, 1.0, 1.0, 2.0]\n"
     ]
    }
   ],
   "source": [
    "ru0 = rhy.RhyUnit(2)\n",
    "ru1 = rhy.RhyUnit(1)\n",
    "my_schillinger_rhythm = rhy.RhyCompound([ru0, ru1, ru1, ru0])\n",
    "print(my_schillinger_rhythm)"
   ]
  },
  {
   "cell_type": "markdown",
   "metadata": {},
   "source": [
    "You could stretch or compress your newly generated rhythm:"
   ]
  },
  {
   "cell_type": "code",
   "execution_count": 9,
   "metadata": {},
   "outputs": [
    {
     "name": "stdout",
     "output_type": "stream",
     "text": [
      "[0.5, 0.25, 0.25, 0.5]\n",
      "[8.0, 4.0, 4.0, 8.0]\n"
     ]
    }
   ],
   "source": [
    "my_fast_schllinger_rhythm = my_schillinger_rhythm.stretch(0.25)\n",
    "my_slowly_schllinger_rhythm = my_schillinger_rhythm.stretch(4)\n",
    "print(my_fast_schllinger_rhythm)\n",
    "print(my_slowly_schllinger_rhythm)"
   ]
  },
  {
   "cell_type": "markdown",
   "metadata": {},
   "source": [
    "The returning objects will be of the same type again:"
   ]
  },
  {
   "cell_type": "code",
   "execution_count": 10,
   "metadata": {},
   "outputs": [
    {
     "data": {
      "text/plain": [
       "True"
      ]
     },
     "execution_count": 10,
     "metadata": {},
     "output_type": "execute_result"
    }
   ],
   "source": [
    "type(my_fast_schllinger_rhythm) == rhy.RhyCompound"
   ]
  },
  {
   "cell_type": "markdown",
   "metadata": {},
   "source": [
    "In general there are two different models to abstract duration or delay values of sequential events. In the examples above, we always used the relative model, meaning that the numbers indicated how long the specific event will take or how long it takes until the next event comes. But in some situations it is more helpful to use lists, which indicate *when* the specific event may start. This notation can be called *absolute*. You can convert your *RhyCompound* object from a relative notation to an absolute notation and vice versa:"
   ]
  },
  {
   "cell_type": "code",
   "execution_count": 11,
   "metadata": {},
   "outputs": [
    {
     "name": "stdout",
     "output_type": "stream",
     "text": [
      "[0.0, 2.0, 3.0, 4.0]\n"
     ]
    }
   ],
   "source": [
    "my_schillinger_rhythm_absolute = my_schillinger_rhythm.convert2absolute()\n",
    "print(my_schillinger_rhythm_absolute)"
   ]
  }
 ],
 "metadata": {
  "kernelspec": {
   "display_name": "Python 3",
   "language": "python",
   "name": "python3"
  },
  "language_info": {
   "codemirror_mode": {
    "name": "ipython",
    "version": 3
   },
   "file_extension": ".py",
   "mimetype": "text/x-python",
   "name": "python",
   "nbconvert_exporter": "python",
   "pygments_lexer": "ipython3",
   "version": "3.6.5"
  }
 },
 "nbformat": 4,
 "nbformat_minor": 2
}
