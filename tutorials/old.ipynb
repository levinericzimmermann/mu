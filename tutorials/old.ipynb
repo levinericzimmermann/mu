{
 "cells": [
  {
   "cell_type": "markdown",
   "metadata": {},
   "source": [
    "# Events from *old*\n",
    "\n",
    "The purpose of *mu*s *sco* - module is to offer different abstractions of musical events. Currently there is only one submodule named *old* because it offers mainly Event-Classes to abstract musical events which are already known in \"old\" music like Melody, Cadence, Chord, etc. \n",
    "*mu*s basic definition of an event is an arbitary object that contains discrete Information about Time and at least one other mu - Object. That means a Melody might be an Event, since a Melody contains Information about Pitch and Duration, while a Harmony isn't an Event, since it could only contain Pitch-Objects. On the other hand, a Chord could be an Event Object, since it wouldn't contain only Information about Pitch, but also about its Duration and Volume.\n",
    "This Jupyter Notebook will give you an easy introduction in *old*s data structures, how you could use them to organise events in time and their specific properties.\n",
    "\n",
    "## creating simultan events\n",
    "\n",
    "*mu* distinguish between *simultan* and *sequential* events. While the first descripes only one distinct event, the sequential events are basically composed through combining different simultan (sub-)events. To initialize any of them, it is first of all necessary to import the module: "
   ]
  },
  {
   "cell_type": "code",
   "execution_count": null,
   "metadata": {},
   "outputs": [],
   "source": [
    "from mu.sco import old"
   ]
  },
  {
   "cell_type": "markdown",
   "metadata": {},
   "source": []
  }
 ],
 "metadata": {
  "kernelspec": {
   "display_name": "Python 3",
   "language": "python",
   "name": "python3"
  },
  "language_info": {
   "codemirror_mode": {
    "name": "ipython",
    "version": 2
   },
   "file_extension": ".py",
   "mimetype": "text/x-python",
   "name": "python",
   "nbconvert_exporter": "python",
   "pygments_lexer": "ipython2",
   "version": "2.7.15rc1"
  }
 },
 "nbformat": 4,
 "nbformat_minor": 2
}
