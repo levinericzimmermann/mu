{
 "cells": [
  {
   "cell_type": "markdown",
   "metadata": {},
   "source": [
    "# Events from *old*\n",
    "\n",
    "The purpose of *mu*s *sco* - module is to offer different abstractions of musical events. Currently there is only one submodule available, which has been named *old* since it contains mainly Event-Classes that abstract musical events already known in (old) music like Melodies, Cadences, Chordes, etc. \n",
    "*mu*s basic definition of an event is an arbitary object that contains discrete Information about Time and at least one other *mu* - Object. That means a Melody might be an Event, since a Melody contains Information about Pitch and Duration, while a Harmony isn't an Event, since it could only contain Pitch-Objects. On the other hand, a Chord could be an Event Object, since it wouldn't contain only Information about Pitch, but also about its Duration and Volume.\n",
    "\n",
    "This Jupyter Notebook will give you a simple introduction in *old*s data structures, how you could use them to organise events in time and their specific properties.\n",
    "\n",
    "## creating simultan events\n",
    "\n",
    "*mu* distinguish between *simultan* and *sequential* events. While the first descripes only one distinct event, the sequential events are basically composed through combining different simultan (sub-)events. To initialize any of them, it is obviously necessary to import the module: "
   ]
  },
  {
   "cell_type": "code",
   "execution_count": 1,
   "metadata": {},
   "outputs": [],
   "source": [
    "from mu.sco import old"
   ]
  },
  {
   "cell_type": "markdown",
   "metadata": {},
   "source": [
    "The easiest simultan events you could create are Rests. It just expects one input - how long it shall take until the next event may start. *mu* will automatically convert the entered entry delay to a [RhyUnit](https://github.com/uummoo/mu/blob/master/tutorials/rhy.ipynb) - object."
   ]
  },
  {
   "cell_type": "code",
   "execution_count": 2,
   "metadata": {},
   "outputs": [],
   "source": [
    "my_rest = old.Rest(4)"
   ]
  },
  {
   "cell_type": "markdown",
   "metadata": {},
   "source": [
    "But it's also easy to make for instance a *Tone* - object. Since a *Tone* is connected with a *Pitch*, you need another module which gives you pitch abstractions. For this Tutorial we may use the [*ji*](https://github.com/uummoo/mu/blob/master/tutorials/ji.ipynb) - module. You can enter four different arguments to initialise a *Tone* - object: pitch, entry delay, duration and volume, while duration and volume are optional. If no duration is explicitly set, *mu* sets it automatically to the same number like the delay."
   ]
  },
  {
   "cell_type": "code",
   "execution_count": 3,
   "metadata": {},
   "outputs": [
    {
     "name": "stdout",
     "output_type": "stream",
     "text": [
      "('3/2', '3.0', '3.0', 'None')\n"
     ]
    }
   ],
   "source": [
    "from mu.mel import ji\n",
    "my_tone = old.Tone(ji.r(3, 2), 3)\n",
    "print(my_tone)"
   ]
  },
  {
   "cell_type": "markdown",
   "metadata": {},
   "source": [
    "Chord objects work very similar. They only differ in the pitch argument, where they expect a *Harmony* - object:"
   ]
  },
  {
   "cell_type": "code",
   "execution_count": 4,
   "metadata": {},
   "outputs": [],
   "source": [
    "major_harmony = ji.JIHarmony([ji.r(1, 1), ji.r(5, 4), ji.r(3, 2)])\n",
    "my_chord = old.Chord(major_harmony, 2, 2)"
   ]
  },
  {
   "cell_type": "markdown",
   "metadata": {},
   "source": [
    "Of course you can access the different attributes manually and change them by hand. Like most of *mu*s data structures they have a *copy* method."
   ]
  },
  {
   "cell_type": "code",
   "execution_count": 6,
   "metadata": {},
   "outputs": [
    {
     "name": "stdout",
     "output_type": "stream",
     "text": [
      "('JIHarmony({6/5, 3/2, 1})', '2.0', '2.0')\n"
     ]
    }
   ],
   "source": [
    "minor_harmony = ji.JIHarmony([ji.r(1, 1), ji.r(6, 5), ji.r(3, 2)])\n",
    "my_chord_in_minor = my_chord.copy()\n",
    "my_chord_in_minor.pitch = minor_harmony\n",
    "print(my_chord_in_minor)"
   ]
  },
  {
   "cell_type": "markdown",
   "metadata": {},
   "source": [
    "## creating sequential events\n",
    "\n",
    "You could save your *Tones* in the *Melody* class and your *Chord* in the Cadence class:"
   ]
  },
  {
   "cell_type": "code",
   "execution_count": 15,
   "metadata": {},
   "outputs": [
    {
     "name": "stdout",
     "output_type": "stream",
     "text": [
      "[('1', '2.0', '1.0', 'None'), ('8/7', '1.0', '1.0', 'None'), ('4/3', '1.5', '2.0', 'None'), ('8/7', '1.0', '1.0', 'None'), ('1', '2.0', '1.0', 'None')]\n"
     ]
    }
   ],
   "source": [
    "t0 = old.Tone(ji.r(1, 1), 2, 1)\n",
    "t1 = old.Tone(ji.r(8, 7), 1, 1)\n",
    "t2 = old.Tone(ji.r(4, 3), 1.5, 2)\n",
    "my_melody = old.Melody([t0, t1, t2, t1, t0])\n",
    "print(my_melody)"
   ]
  },
  {
   "cell_type": "markdown",
   "metadata": {},
   "source": [
    "If you print this melody, it will look like an ordinary list filled with tones, but if you take a closer look you might recognize some magic methods and properties the *Melody* object offers you. For instance *mu* provides possiblities to reintepret your *Melody* - object in a parametric way. That means that you no longer understand your *Melody* as a list of composed objects (so called \"Tones\"), but as a list of pitches, a list of durations, a list of delays, ...."
   ]
  },
  {
   "cell_type": "code",
   "execution_count": 16,
   "metadata": {},
   "outputs": [
    {
     "name": "stdout",
     "output_type": "stream",
     "text": [
      "[1, 8/7, 4/3, 8/7, 1]\n"
     ]
    }
   ],
   "source": [
    "print(my_melody.pitch)"
   ]
  },
  {
   "cell_type": "markdown",
   "metadata": {},
   "source": [
    "This way you can change and access only single parameters instead of complete Tone - objects:"
   ]
  },
  {
   "cell_type": "code",
   "execution_count": 17,
   "metadata": {},
   "outputs": [
    {
     "name": "stdout",
     "output_type": "stream",
     "text": [
      "[1, 8/7, 9/8, 8/7, 1]\n",
      "[10/7, 3/2, 2, 12/7, 2]\n"
     ]
    }
   ],
   "source": [
    "my_melody.pitch[2] = ji.r(9, 8)  # changing only one pitch\n",
    "print(my_melody.pitch)\n",
    "my_melody.pitch = ji.JIMel([ji.r(10, 7), ji.r(3, 2), ji.r(2, 1), ji.r(12, 7), ji.r(2, 1)])  # changing all pitches\n",
    "print(my_melody.pitch)"
   ]
  }
 ],
 "metadata": {
  "kernelspec": {
   "display_name": "Python 3",
   "language": "python",
   "name": "python3"
  },
  "language_info": {
   "codemirror_mode": {
    "name": "ipython",
    "version": 3
   },
   "file_extension": ".py",
   "mimetype": "text/x-python",
   "name": "python",
   "nbconvert_exporter": "python",
   "pygments_lexer": "ipython3",
   "version": "3.6.5"
  }
 },
 "nbformat": 4,
 "nbformat_minor": 2
}
